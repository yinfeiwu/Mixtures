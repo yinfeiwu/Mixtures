{
 "cells": [
  {
   "cell_type": "markdown",
   "metadata": {},
   "source": [
    "# Hendricks Group\n",
    "\n",
    "# Hidden Ancestry Example Notebook"
   ]
  },
  {
   "cell_type": "markdown",
   "metadata": {},
   "source": [
    "_In the following notebook, we solve an example Hidden Ancestries problem._ \n",
    "\n",
    "* We use simulated SNPs with minor allele frequencies for $K=5$ ancestries -- European ancestries, African ancestries, South Asian ancestries, East Asian ancestries, and Native American ancestires. \n",
    "\n",
    "* We numerically solve for the 5 ancestry's true proportions in the _observed_ population, which is the vector $\\pi^*:=(\\pi_1,\\pi_2,\\pi_3,\\pi_4, \\pi_5)$.\n",
    "    * $\\pi_1$ denotes the proportion of European ancestries in the observed population\n",
    "    * $\\pi_2$ denotes the proportion of African ancestries in the observed population\n",
    "    * $\\pi_3$ denotes the proportion of South Asian ancestries in the observed population\n",
    "    * $\\pi_4$ denotes the proportion of East Asian ancestries in the observed population\n",
    "    * $\\pi_5$ denotes the proportion of Native American ancestries in the observed population\n",
    "\n",
    "* In this notebook, we work with an example data set $D$ with $N=10,000$ SNPs and ensure that our Python script correctly uses the data to solve for these ancestry proportions using Sequential Least Squares Quadratic Programming, or SLSQP."
   ]
  },
  {
   "cell_type": "markdown",
   "metadata": {},
   "source": [
    "* The cell below calls the generalized HA script, which is the main feature of the HA Python package. Then we can access the functions inside of the script to solve an example problem."
   ]
  },
  {
   "cell_type": "code",
   "execution_count": 1,
   "metadata": {},
   "outputs": [],
   "source": [
    "%run HA_script.py"
   ]
  },
  {
   "cell_type": "markdown",
   "metadata": {},
   "source": [
    "* In the cell below, we read in the example data set provided with this package, called \"packagedata.csv\".\n",
    "* We use Pandas to convert from the CSV format to an array endowed with numerical linear algebra properties Python understands.\n",
    "* How $D$ is formatted matters a lot -- order matters...\n",
    "    * $D$ contains (for now) an indexing column containing the natural numbers up to $N$ (I think Pandas might be adding this???), SNP number (location on genome), Chromosome number, the $5$ minor allele frequencies of the $K=5$ ancestires (in this case), and finally, any (gnomAD) observed allele frequencies we wish to model. \n",
    "    * We only need certain columns of $D$ to solve our example problem...\n",
    "        * That is, we only need the minor allele frequencies and whichever observed allele frequency we are modeling, which should be $K+1$ columns of D. In our case, we need 6 of the total 11 columns.\n",
    "* We print out the first 5 rows of $D$ to take a look at its structure and check for basic correctness in what we _think_ we are working with!"
   ]
  },
  {
   "cell_type": "code",
   "execution_count": 2,
   "metadata": {},
   "outputs": [
    {
     "data": {
      "text/html": [
       "<div>\n",
       "<style scoped>\n",
       "    .dataframe tbody tr th:only-of-type {\n",
       "        vertical-align: middle;\n",
       "    }\n",
       "\n",
       "    .dataframe tbody tr th {\n",
       "        vertical-align: top;\n",
       "    }\n",
       "\n",
       "    .dataframe thead th {\n",
       "        text-align: right;\n",
       "    }\n",
       "</style>\n",
       "<table border=\"1\" class=\"dataframe\">\n",
       "  <thead>\n",
       "    <tr style=\"text-align: right;\">\n",
       "      <th></th>\n",
       "      <th>SNP</th>\n",
       "      <th>CHR</th>\n",
       "      <th>ref_eur</th>\n",
       "      <th>ref_afr</th>\n",
       "      <th>ref_sas</th>\n",
       "      <th>ref_eas</th>\n",
       "      <th>ref_nam</th>\n",
       "      <th>gnomad_afr</th>\n",
       "      <th>gnomad_amr</th>\n",
       "      <th>gnomad_oth</th>\n",
       "    </tr>\n",
       "  </thead>\n",
       "  <tbody>\n",
       "    <tr>\n",
       "      <th>0</th>\n",
       "      <td>rs1695824</td>\n",
       "      <td>1</td>\n",
       "      <td>0.210394</td>\n",
       "      <td>0.902781</td>\n",
       "      <td>0.693261</td>\n",
       "      <td>0.990080</td>\n",
       "      <td>0.98837</td>\n",
       "      <td>0.779977</td>\n",
       "      <td>0.615476</td>\n",
       "      <td>0.334254</td>\n",
       "    </tr>\n",
       "    <tr>\n",
       "      <th>1</th>\n",
       "      <td>rs7519837</td>\n",
       "      <td>1</td>\n",
       "      <td>0.337873</td>\n",
       "      <td>0.929563</td>\n",
       "      <td>0.712678</td>\n",
       "      <td>0.870030</td>\n",
       "      <td>0.79070</td>\n",
       "      <td>0.830306</td>\n",
       "      <td>0.548463</td>\n",
       "      <td>0.376384</td>\n",
       "    </tr>\n",
       "    <tr>\n",
       "      <th>2</th>\n",
       "      <td>rs7545940</td>\n",
       "      <td>1</td>\n",
       "      <td>0.345311</td>\n",
       "      <td>0.375000</td>\n",
       "      <td>0.416164</td>\n",
       "      <td>0.373990</td>\n",
       "      <td>0.27910</td>\n",
       "      <td>0.391494</td>\n",
       "      <td>0.356974</td>\n",
       "      <td>0.381919</td>\n",
       "    </tr>\n",
       "    <tr>\n",
       "      <th>3</th>\n",
       "      <td>rs897632</td>\n",
       "      <td>1</td>\n",
       "      <td>0.231473</td>\n",
       "      <td>0.308540</td>\n",
       "      <td>0.325159</td>\n",
       "      <td>0.260915</td>\n",
       "      <td>0.67440</td>\n",
       "      <td>0.292203</td>\n",
       "      <td>0.369668</td>\n",
       "      <td>0.280037</td>\n",
       "    </tr>\n",
       "    <tr>\n",
       "      <th>4</th>\n",
       "      <td>rs12084604</td>\n",
       "      <td>1</td>\n",
       "      <td>0.001238</td>\n",
       "      <td>0.162712</td>\n",
       "      <td>0.000000</td>\n",
       "      <td>0.000000</td>\n",
       "      <td>0.00000</td>\n",
       "      <td>0.129906</td>\n",
       "      <td>0.010613</td>\n",
       "      <td>0.011029</td>\n",
       "    </tr>\n",
       "  </tbody>\n",
       "</table>\n",
       "</div>"
      ],
      "text/plain": [
       "          SNP  CHR   ref_eur   ref_afr   ref_sas   ref_eas  ref_nam  \\\n",
       "0   rs1695824    1  0.210394  0.902781  0.693261  0.990080  0.98837   \n",
       "1   rs7519837    1  0.337873  0.929563  0.712678  0.870030  0.79070   \n",
       "2   rs7545940    1  0.345311  0.375000  0.416164  0.373990  0.27910   \n",
       "3    rs897632    1  0.231473  0.308540  0.325159  0.260915  0.67440   \n",
       "4  rs12084604    1  0.001238  0.162712  0.000000  0.000000  0.00000   \n",
       "\n",
       "   gnomad_afr  gnomad_amr  gnomad_oth  \n",
       "0    0.779977    0.615476    0.334254  \n",
       "1    0.830306    0.548463    0.376384  \n",
       "2    0.391494    0.356974    0.381919  \n",
       "3    0.292203    0.369668    0.280037  \n",
       "4    0.129906    0.010613    0.011029  "
      ]
     },
     "execution_count": 2,
     "metadata": {},
     "output_type": "execute_result"
    }
   ],
   "source": [
    "import pandas as pd\n",
    "\n",
    "# Read in the data\n",
    "D = pd.read_csv(\"packagedata.csv\")\n",
    "\n",
    "D.head(5) ### Look at the first 5 rows"
   ]
  },
  {
   "cell_type": "markdown",
   "metadata": {},
   "source": [
    "* In the cell below, we specify the number of ancestries, $K$, (here we have 5) and optionally choose an initial iterate.\n",
    "    * Choosing an initial iterate is optional, and so we leave this command commented out.\n",
    "    * The default initial iterate is $\\pi^{(0)}=\\frac{1}{K}(1,\\ldots,1)\\in \\mathbb{R}^{K}$.\n",
    "    * The initial iterate must be a $K \\times 1$ (column) or $1 \\times K$ (row) vector (the HA script can handle either shape)"
   ]
  },
  {
   "cell_type": "code",
   "execution_count": 3,
   "metadata": {},
   "outputs": [
    {
     "data": {
      "text/plain": [
       "(1, 5)"
      ]
     },
     "execution_count": 3,
     "metadata": {},
     "output_type": "execute_result"
    }
   ],
   "source": [
    "K=5 # User must specify number of ancestries!\n",
    "pi_0 = [[0.3,0.1,0.2,0.1,0.3]] # You do not have to provide the initial iterate, but you may.\n",
    "np.shape(pi_0)"
   ]
  },
  {
   "cell_type": "markdown",
   "metadata": {},
   "source": [
    "* In the cell below, we quickly check that we have specified a data matrix $D$ and total number of ancestries $K$ that match the number of SNPs we think we are working with as well as the correct ancestry number."
   ]
  },
  {
   "cell_type": "code",
   "execution_count": 4,
   "metadata": {},
   "outputs": [
    {
     "name": "stdout",
     "output_type": "stream",
     "text": [
      "our problem includes 10000 SNPs, and 5 ancestries\n"
     ]
    }
   ],
   "source": [
    "print('our problem includes', np.shape(D)[0], 'SNPs, and', K, 'ancestries')"
   ]
  },
  {
   "cell_type": "markdown",
   "metadata": {},
   "source": [
    "* Finally, in the cell below, we apply the HA function to the data $D$, with intial iterate $\\pi^{(0)}$ (optional), and the number of ancestries, $K=5$. \n",
    "    * We can also provide different observation columns if we choose.\n",
    "* The HA function will output an array containing the numerical solution, $\\pi^{final}$, the number of SLSQP iterations taken to find the numerical solution, and the total runtime (in seconds) of SLSQP."
   ]
  },
  {
   "cell_type": "code",
   "execution_count": 5,
   "metadata": {},
   "outputs": [
    {
     "name": "stdout",
     "output_type": "stream",
     "text": [
      "numerical solution via SLSQP, pi_final =  [0.15612835 0.82430497 0.00691932 0.00316927 0.00947809]\n",
      "\n",
      "number of SLSQP iterations: 12\n",
      "\n",
      "runtime: 0.0207805 seconds\n"
     ]
    }
   ],
   "source": [
    "output_array = HA(D,K) # This line runs the HA function inside the HA_script using default initial iterate and default observed\n",
    "# output_array = HA(D,K,obs=2) # This line runs the HA function inside the HA_script using default initial iterate and second observed\n",
    "# output_array = HA(D,K,obs=3) # This line runs the HA function inside the HA_script using default initial iterate and third observed\n",
    "# output_array = HA(D,K,pi_0) # This line runs the HA function inside the HA_script with a particular choice for initial iterate\n",
    "\n",
    "\n",
    "print('numerical solution via SLSQP, pi_final = ',output_array[0])\n",
    "print()\n",
    "print('number of SLSQP iterations:',output_array[1])\n",
    "print()\n",
    "print('runtime:',output_array[2],'seconds')"
   ]
  },
  {
   "cell_type": "markdown",
   "metadata": {},
   "source": [
    "### _Above we see a printout of the numerical solution, $\\pi^{final}$, the number of SLSQP iterations, and the time in seconds of the run._\n",
    "\n",
    "In detail...\n",
    "\n",
    "* The numerical solution we have found is given by $$\\pi^\\text{final}\\approx (0.156,0.824,0.007,0.003,0.009)$$\n",
    "\n",
    "    * $\\pi_1^\\text{final}\\approx 0.156$ denotes the proportion of European ancestries in the observed population\n",
    "    * $\\pi_2^\\text{final}\\approx 0.824$ denotes the proportion of African ancestries in the observed population\n",
    "    * $\\pi_3^\\text{final}\\approx 0.007$ denotes the proportion of South Asian ancestries in the observed population\n",
    "    * $\\pi_4^\\text{final}\\approx 0.003$ denotes the proportion of East Asian ancestries in the observed population\n",
    "    * $\\pi_5^\\text{final}\\approx 0.009$ denotes the proportion of Native American ancestries in the observed population\n",
    "    * Recall that we chose the gnomAD African sample for our observed population in this example.\n",
    "    \n",
    "* SLSQP went through about 10 iterations to obtain this numerical solution\n",
    "\n",
    "* The runtime of the script/computational process should be less than a tenth of a second!\n",
    "    * I am witnessing run times closer to a hundredth of a second!"
   ]
  }
 ],
 "metadata": {
  "kernelspec": {
   "display_name": "Python 3",
   "language": "python",
   "name": "python3"
  },
  "language_info": {
   "codemirror_mode": {
    "name": "ipython",
    "version": 3
   },
   "file_extension": ".py",
   "mimetype": "text/x-python",
   "name": "python",
   "nbconvert_exporter": "python",
   "pygments_lexer": "ipython3",
   "version": "3.6.5"
  }
 },
 "nbformat": 4,
 "nbformat_minor": 2
}
